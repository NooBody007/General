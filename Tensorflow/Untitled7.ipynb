{
  "nbformat": 4,
  "nbformat_minor": 0,
  "metadata": {
    "colab": {
      "name": "Untitled7.ipynb",
      "provenance": [],
      "collapsed_sections": []
    },
    "kernelspec": {
      "name": "python3",
      "display_name": "Python 3"
    },
    "language_info": {
      "name": "python"
    }
  },
  "cells": [
    {
      "cell_type": "code",
      "execution_count": 31,
      "metadata": {
        "colab": {
          "base_uri": "https://localhost:8080/",
          "height": 368
        },
        "id": "A6ZHaguSAiU3",
        "outputId": "184d11c3-7e41-4d1f-c3da-b1e9ea22bc45"
      },
      "outputs": [
        {
          "name": "stdout",
          "output_type": "stream",
          "text": [
            "1875/1875 [==============================] - 4s 2ms/step - loss: 0.4960 - accuracy: 0.8259\n",
            "313/313 [==============================] - 1s 1ms/step - loss: 0.4494 - accuracy: 0.8448\n",
            "Accuracy =  0.8447999954223633\n",
            "Pick a number: 7\n"
          ]
        },
        {
          "output_type": "display_data",
          "data": {
            "image/png": "[encoded data removed]",
            "text/plain": [
              "<Figure size 432x288 with 2 Axes>"
            ]
          },
          "metadata": {
            "needs_background": "light"
          }
        }
      ],
      "source": [
        "import tensorflow as tf\n",
        "from tensorflow import keras\n",
        "import matplotlib.pyplot as plt\n",
        "import numpy as np\n",
        "\n",
        "\n",
        "#Get the dataset and split it\n",
        "\n",
        "fashion_mnist = keras.datasets.fashion_mnist\n",
        "\n",
        "(train_images, train_labels),(test_images,test_labels) = fashion_mnist.load_data()\n",
        "\n",
        "\n",
        "\n",
        "####Inspect the dataset\n",
        "\n",
        "# train_images[0,23,23]   looking at one pixel (60000 images, 28x28 pixels for each)\n",
        "# train_labels[:10]       check 10 labels\n",
        "\n",
        "\n",
        "\n",
        "#Crate an array for labels/class names.\n",
        "\n",
        "class_names = ['Tshirt/top','Trouser','Pullover','Dress','Coat','Sandal','Shirt','Sneaker','Bag','Ankle boot']\n",
        "\n",
        "\n",
        "\n",
        "\n",
        "\n",
        "\n",
        "####Plot visualize and inspect the data\n",
        "\"\"\"plt.figure()\n",
        "plt.imshow(train_images[1])\n",
        "plt.colorbar()\n",
        "plt.grid(False)\n",
        "plt.show()\"\"\"\n",
        "\n",
        "\n",
        "\n",
        "\n",
        "#Preprocess the data\n",
        "train_images = train_images / 255.0\n",
        "test_images = test_images / 255.0\n",
        "\n",
        "\n",
        "\n",
        "\n",
        "#Create the model\n",
        "model = keras.Sequential([keras.layers.Flatten(input_shape=(28,28)),keras.layers.Dense(128,'relu'),keras.layers.Dense(10,'softmax')])\n",
        "\n",
        "\n",
        "#Compile model\n",
        "model.compile(optimizer='adam',loss='sparse_categorical_crossentropy',metrics=['accuracy'])\n",
        "\n",
        "\n",
        "#Train/fit and evaluate\n",
        "model.fit(train_images,train_labels,epochs=1)\n",
        "\n",
        "test_loss, test_acc = model.evaluate(test_images,test_labels,verbose=1)\n",
        "\n",
        "print(\"Accuracy = \",test_acc)\n",
        "\n",
        "#Predict\n",
        "\"\"\"predictions = model.predict(test_images)\n",
        "print(np.argmax(predictions[0]))\n",
        "print(test_labels[0])\n",
        "\"\"\"\n",
        "\n",
        "\n",
        "#Extra function not necessary\n",
        "COLOR = 'white'\n",
        "plt.rcParams['text.color'] = COLOR\n",
        "plt.rcParams['axes.labelcolor'] = COLOR\n",
        "\n",
        "def predict(model, image, correct_label):\n",
        "  class_names = ['T-shirt/top', 'Trouser', 'Pullover', 'Dress', 'Coat',\n",
        "               'Sandal', 'Shirt', 'Sneaker', 'Bag', 'Ankle boot']\n",
        "  prediction = model.predict(np.array([image]))\n",
        "  predicted_class = class_names[np.argmax(prediction)]\n",
        "\n",
        "  show_image(image, class_names[correct_label], predicted_class)\n",
        "\n",
        "\n",
        "def show_image(img, label, guess):\n",
        "  plt.figure()\n",
        "  plt.imshow(img, cmap=plt.cm.binary)\n",
        "  plt.title(\"Excpected: \" + label)\n",
        "  plt.xlabel(\"Guess: \" + guess)\n",
        "  plt.colorbar()\n",
        "  plt.grid(False)\n",
        "  plt.show()\n",
        "\n",
        "\n",
        "def get_number():\n",
        "  while True:\n",
        "    num = input(\"Pick a number: \")\n",
        "    if num.isdigit():\n",
        "      num = int(num)\n",
        "      if 0 <= num <= 1000:\n",
        "        return int(num)\n",
        "    else:\n",
        "      print(\"Try again...\")\n",
        "\n",
        "num = get_number()\n",
        "image = test_images[num]\n",
        "label = test_labels[num]\n",
        "predict(model, image, label)"
      ]
    }
  ]
}
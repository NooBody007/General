{
  "nbformat": 4,
  "nbformat_minor": 0,
  "metadata": {
    "colab": {
      "name": "Untitled6.ipynb",
      "provenance": [],
      "collapsed_sections": []
    },
    "kernelspec": {
      "name": "python3",
      "display_name": "Python 3"
    },
    "language_info": {
      "name": "python"
    }
  },
  "cells": [
    {
      "cell_type": "code",
      "execution_count": 28,
      "metadata": {
        "colab": {
          "base_uri": "https://localhost:8080/"
        },
        "id": "3liMPBGys6hR",
        "outputId": "19a9123f-72b7-428e-d5f7-f2a3a7ada8f1"
      },
      "outputs": [
        {
          "output_type": "stream",
          "name": "stdout",
          "text": [
            "[10.714286  9.857143  9.428571  9.214286  9.107143  9.053572  9.026785]\n"
          ]
        }
      ],
      "source": [
        "import tensorflow_probability as tfp\n",
        "import tensorflow as tf\n",
        "\n",
        "#shortcut and distributions\n",
        "tfd = tfp.distributions\n",
        "\n",
        "initial_distributions = tfd.Categorical(probs=[0.8,0.2])\n",
        "transition_distributions = tfd.Categorical(probs=[[0.7,0.3],[0.2,0.8]])\n",
        "observation_distributions = tfd.Normal(loc=[0.,15.],scale = [5., 10.])\n",
        "\n",
        "\n",
        "#model\n",
        "model = tfd.HiddenMarkovModel(initial_distributions,transition_distributions,observation_distributions,num_steps=7)\n",
        "\n",
        "\n",
        "#calculation\n",
        "mean = model.mean()\n",
        "\n",
        "\n",
        "#print\n",
        "\n",
        "with tf.compat.v1.Session() as sees:\n",
        "  print(mean.numpy())\n",
        "\n",
        "\n"
      ]
    }
  ]
}